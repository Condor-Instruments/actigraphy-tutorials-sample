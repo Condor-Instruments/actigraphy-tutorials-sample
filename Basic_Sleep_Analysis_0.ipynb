{
 "cells": [
  {
   "cell_type": "markdown",
   "metadata": {
    "id": "yLPyjLO863tz"
   },
   "source": [
    "**Condor Instruments** - Complete sleep analysis demonstration\n",
    "\n",
    "*Julius A. P. P. de Paula*\n",
    "\n",
    "*jp@condorinst.com.br* \n",
    "\n",
    "\n",
    "\n",
    "*   If you would like, you can access a Google Colab version of this page at: https://drive.google.com/file/d/1KeoceVsCIn5tKk-8XAMIMvmgCSiC5Chf/view?usp=sharing\n",
    "\n"
   ]
  },
  {
   "cell_type": "markdown",
   "metadata": {
    "id": "ep3HMME38-KF"
   },
   "source": [
    "1) Package installation and upgrade"
   ]
  },
  {
   "cell_type": "code",
   "execution_count": null,
   "metadata": {
    "colab": {
     "base_uri": "https://localhost:8080/"
    },
    "id": "4WMf0HkkPnV6",
    "outputId": "c743bc14-ccb7-4bf9-c23a-2a44146e67c2"
   },
   "outputs": [],
   "source": [
    "## we already have them installed :D\n",
    "\n",
    "# !pip install wget # installs library for file download\n",
    "# !pip install xgboost --upgrade # upgrades package used in offwrist algorithm"
   ]
  },
  {
   "cell_type": "markdown",
   "metadata": {
    "id": "mpVO_uX09EOU"
   },
   "source": [
    "2) Importing packages"
   ]
  },
  {
   "cell_type": "code",
   "execution_count": null,
   "metadata": {
    "id": "h-bldj5wyx9r"
   },
   "outputs": [],
   "source": [
    "# these packages are required for obtaining the path to the current file\n",
    "import sys\n",
    "import inspect\n",
    "import os\n",
    "root = os.path.dirname(os.path.abspath(inspect.getfile(inspect.currentframe()))) # path to \"this\" directory"
   ]
  },
  {
   "cell_type": "code",
   "execution_count": null,
   "metadata": {
    "id": "2iX_fHJHPnWF"
   },
   "outputs": [],
   "source": [
    "import numpy as np # mathmatics library\n",
    "import pandas as pd # data science library"
   ]
  },
  {
   "cell_type": "code",
   "execution_count": null,
   "metadata": {
    "id": "yqE-lM8oPnWM"
   },
   "outputs": [],
   "source": [
    "## we already have all the dependencies locally :D\n",
    "\n",
    "# # dependency download\n",
    "# import wget\n",
    "# URL = \"https://github.com/Condor-Instruments/actigraphy-tutorials-sample/blob/master/demo-dependencies.zip?raw=true\"\n",
    "# response = wget.download(URL, \"demo-dependencies.zip\")\n",
    "\n",
    "# # file unzip\n",
    "# import zipfile\n",
    "# with zipfile.ZipFile(\"demo-dependencies.zip\", 'r') as zip_ref:\n",
    "#   zip_ref.extractall(root)\n",
    "\n",
    "from cspd_wrapper import cspd_wrapper # algorithm for main sleep period detection\n",
    "\n",
    "from nap_wrapper import nap_wrapper # algorithm for secondary sleep period detection\n",
    "\n",
    "from logread import LogRead as lr # class for log file reading\n",
    "\n",
    "from boosting_offwrist_wrapper import boosting_offwrist_wrapper # algorithm for offwrist detection\n",
    "\n",
    "from colekripke import ColeKripke as ck # algorithm for WASO detection\n",
    "\n",
    "from nights_df import nights_df # helper algorithm for daily processing\n",
    "\n",
    "from simple_actogram import actigraphy_single_plot_actogram"
   ]
  },
  {
   "cell_type": "markdown",
   "metadata": {
    "id": "9mG6JFpp5pw0"
   },
   "source": [
    "3) Reading files\n",
    "\n",
    "For this demonstration we've made 3 files available: input0.txt, input1.txt and input2.txt"
   ]
  },
  {
   "cell_type": "code",
   "execution_count": null,
   "metadata": {
    "colab": {
     "base_uri": "https://localhost:8080/"
    },
    "id": "Va7z50hpPnWR",
    "outputId": "a5a70288-eaa8-4976-a495-1290b000dda0"
   },
   "outputs": [],
   "source": [
    "file = \"input1.txt\" # file subject to analysis\n",
    "\n",
    "df = lr(file).data # with LogRead class the file is read to a DataFrame from pandas library\n",
    "npindex = df.index.to_numpy()\n",
    "df = df[pd.Timestamp(npindex[0]):pd.Timestamp(npindex[int(len(npindex)/3)])]"
   ]
  },
  {
   "cell_type": "markdown",
   "metadata": {
    "id": "e48xDlug9geb"
   },
   "source": [
    "4) Preparing the input DataFrame"
   ]
  },
  {
   "cell_type": "code",
   "execution_count": null,
   "metadata": {
    "colab": {
     "base_uri": "https://localhost:8080/"
    },
    "id": "gdxlcnjZPnWT",
    "outputId": "ddc4b0aa-c4b4-4e8d-8b78-156f6efe4c39"
   },
   "outputs": [],
   "source": [
    "# state-related columns will be separated for better visuallization, all of them will be initially filled with zeros\n",
    "df[\"state\"] = np.zeros(len(df))\n",
    "df[\"offwrist\"] = np.zeros(len(df)) \n",
    "df[\"sleep\"] = np.zeros(len(df)) \n",
    "\n",
    "int_temp = df[\"TEMPERATURE\"].to_numpy()\n",
    "ext_temp = df[\"EXT TEMPERATURE\"].to_numpy()\n",
    "int_temp = np.where(int_temp > 0, int_temp, 0)\n",
    "ext_temp = np.where(ext_temp > 0, ext_temp, 0)\n",
    "int_temp = np.where(int_temp < 42 , int_temp, 42)\n",
    "ext_temp = np.where(ext_temp < 42 , ext_temp, 42)\n",
    "df[\"int_temp\"] = int_temp\n",
    "df[\"ext_temp\"] = ext_temp\n",
    "\n",
    "# pre-scaled temperatures will be used for plotting\n",
    "scale = np.max([np.max(ext_temp),np.max(int_temp)])\n",
    "df[\"int_temp_\"] = int_temp/scale\n",
    "df[\"ext_temp_\"] = ext_temp/scale\n",
    "\n",
    "print(df)"
   ]
  },
  {
   "cell_type": "markdown",
   "metadata": {
    "id": "48Y-267141pi"
   },
   "source": [
    "5) Offwrist\n",
    "\n",
    "The algorithm for offwrist period detection is meant to filter out of the analysis the moments when the subject is not wearing the actigraph. It is based on the Gradient Boosting algorithm provided by the XGBoost library. With the activity measure PIM and internal and external temperature, new auxiliary variables are computed and all are fed to the algorithm to generate a classification."
   ]
  },
  {
   "cell_type": "code",
   "execution_count": null,
   "metadata": {
    "colab": {
     "base_uri": "https://localhost:8080/",
     "height": 1000
    },
    "id": "7wL9hQ6mPnWV",
    "outputId": "13fc4fb7-5c17-4d96-8b8d-e743c626a5ed",
    "scrolled": false
   },
   "outputs": [],
   "source": [
    "out = boosting_offwrist_wrapper(df) # offwrist detection\n",
    "\n",
    "# column updates\n",
    "df[\"state\"] = out\n",
    "df[\"offwrist\"] = 0.25*out \n",
    "\n",
    "# we'll use actograms for visuallizing the data\n",
    "fig = actigraphy_single_plot_actogram(df, [\"PIM\", \"int_temp_\",\"ext_temp_\",\"sleep\",\"offwrist\"], [False, True, True, True, True], 12, dt = \"DATE/TIME\")\n",
    "fig.show()"
   ]
  },
  {
   "cell_type": "markdown",
   "metadata": {
    "id": "MXY-vrq7562C"
   },
   "source": [
    "6) Main sleep periods\n",
    "\n",
    "The algorithm for main sleep period detection is based on an implementation of the Crespo algorithm that was initially described in the scientific literature by Crespo et al in 2012. The algorithm consists on a delimitation of the periods of high and low activity inside the time series through a percentile-based thresholding operation. After this initial delimitation, a refinement procedure takes place using metrics that we've developed."
   ]
  },
  {
   "cell_type": "code",
   "execution_count": null,
   "metadata": {
    "colab": {
     "base_uri": "https://localhost:8080/",
     "height": 1000
    },
    "id": "jy_K8QfmPnWY",
    "outputId": "b9aee4d5-739c-42f9-ae83-f0c3ae61cc0a"
   },
   "outputs": [],
   "source": [
    "# columns need to renamed before being fed to the algorithms\n",
    "df = df.rename(columns={\"DATE/TIME\":\"datetime\",\n",
    "                        \"PIM\":\"activity\",\n",
    "                        \"TEMPERATURE\":\"int_temp\",\n",
    "                        \"EXT TEMPERATURE\":\"ext_temp\"})\n",
    "\n",
    "out = cspd_wrapper(df) # main sleep period detection (bed time and getup time)\n",
    "\n",
    "df[\"state\"] = out\n",
    "df[\"sleep\"] = np.where(out == 4,0,out)\n",
    "\n",
    "fig = actigraphy_single_plot_actogram(df, [\"activity\", \"int_temp_\",\"ext_temp_\",\"sleep\",\"offwrist\"], [False, True, True, True, True], 12, dt = \"datetime\")\n",
    "fig.show()"
   ]
  },
  {
   "cell_type": "markdown",
   "metadata": {
    "id": "8sWB_k5tmv0h"
   },
   "source": [
    "7) Secondary sleep periods (Naps)\n",
    "\n",
    "The algorithm used for nap detection is the same Crespo algorithm described above but with different parameters. The same principle is used, we aim to detect periods of low movement, but we'll search only the periods defined as Awake previously and make the algorithm more sensitive to smaller variations in movement amplitude to find these relatively short sleep periods. The same is valid during the refinement stage of the algorithm, we'll feed in different parameters, specific to this particular problem.\n",
    "\n",
    "---\n",
    "\n"
   ]
  },
  {
   "cell_type": "code",
   "execution_count": null,
   "metadata": {
    "colab": {
     "base_uri": "https://localhost:8080/",
     "height": 1000
    },
    "id": "rMSzbOQxfR17",
    "outputId": "be2e873b-6d1a-4a85-b1c5-c0f0b4016610"
   },
   "outputs": [],
   "source": [
    "# some of the parameters that differentiate our implementations relate to the length of the sleep period we wish to detect,\n",
    "# we seek to find short periods, and some are the inputs to the refinement logic. the refinement step improves the boundaries of the sleep period\n",
    "\n",
    "out = nap_wrapper(df) # secondary sleep period detection (nap bed time and getup time)\n",
    "\n",
    "df[\"state\"] = out\n",
    "df[\"sleep\"] = np.where(out == 7,1,df[\"sleep\"].to_numpy())\n",
    "\n",
    "fig = actigraphy_single_plot_actogram(df, [\"activity\", \"int_temp_\",\"ext_temp_\",\"sleep\",\"offwrist\"], [False, True, True, True, True], 12, dt = \"datetime\")\n",
    "fig.show()"
   ]
  },
  {
   "cell_type": "markdown",
   "metadata": {
    "id": "3T2BE_hT7YKw"
   },
   "source": [
    "8) WASO\n",
    "\n",
    "The Wakefullness After Sleep Onset detection uses our implementation of an algorithm described in the scientific literature by Cole et al in 1992. It consists on a weighted sum rolling window operation followed by a thresholding operation. In our implementation we use a different window size and weights, we choose to do so based on the results we got from optimization studies carried with AI and other statistical techniques."
   ]
  },
  {
   "cell_type": "code",
   "execution_count": null,
   "metadata": {
    "colab": {
     "base_uri": "https://localhost:8080/"
    },
    "id": "clQL9DpsPnWe",
    "outputId": "fa1ea89f-6189-49f9-ff61-3cbc80fc67c7"
   },
   "outputs": [],
   "source": [
    "onwrist = np.where(out == 4, False, True) # actigraph on the wrist mask\n",
    "\n",
    "# input variables read only in the offwrist periods\n",
    "stamps = df[\"datetime\"].to_numpy()[onwrist]\n",
    "zcm = df[\"ZCMn\"].to_numpy()[onwrist]\n",
    "\n",
    "n = len(zcm) # time-series length\n",
    "state = np.zeros(n) # auxiliary array to compute new states \n",
    "\n",
    "in_bed = out[onwrist] # this array acts as a sleep journal, we get the information of whether or not the subject is in bed\n",
    "nights = nights_df(stamps,in_bed,wake_thresh=60,search_gap=False) # night segregation\n",
    "\n",
    "num_nights = len(nights) # number of nights present in the time series\n",
    "\n",
    "# nightly sleep statistics arrays\n",
    "waso = np.nan*np.ones(num_nights)\n",
    "tbt = np.nan*np.ones(num_nights)\n",
    "tst = np.nan*np.ones(num_nights)\n",
    "sol = np.nan*np.ones(num_nights)\n",
    "soi = np.nan*np.ones(num_nights)\n",
    "nw = np.nan*np.ones(num_nights)\n",
    "eff = np.nan*np.ones(num_nights)\n",
    "bts = []\n",
    "gts = []\n",
    "\n",
    "for i in range(num_nights):\n",
    "    bt = nights.at[i,\"bt\"] # bed time index\n",
    "    gt = nights.at[i,\"gt\"] # getup time index\n",
    "\n",
    "    bts.append(stamps[bt]) # bed time \n",
    "    gts.append(stamps[gt]) # getup time\n",
    "\n",
    "    input = zcm[bt:gt]\n",
    "    cole = ck(input, # WASO computations are carried nightly\n",
    "              P=0.000464,\n",
    "              weights_before=[34.5,133,529,375,408,400.5,1074,2048.5,2424.5],\n",
    "              weights_after=[1920,149.5,257.5,125,111.5,120,69,40.5],\n",
    "              )\n",
    "    cole.model(np.zeros(gt-bt))\n",
    "\n",
    "    cpred = cole.filtered_weighted # states on the current night\n",
    "    \n",
    "    # SOL computation\n",
    "    latency = 0\n",
    "    while cpred[latency] > 0:\n",
    "        latency += 1\n",
    "\n",
    "    # SOI computation\n",
    "    innertia = len(cpred)-1\n",
    "    while cpred[innertia] > 0:\n",
    "        innertia -= 1\n",
    "\n",
    "    # Computing the number of wake periods during the night\n",
    "    edges = np.diff(cpred)\n",
    "    num_awake = np.sum(np.where(edges>0,1,0))\n",
    "\n",
    "    sol[i] = latency\n",
    "    soi[i] = len(cpred)-1-innertia\n",
    "    waso[i] = np.sum(cpred[latency:innertia])\n",
    "    nw[i] = num_awake\n",
    "    tbt[i] = gt-bt\n",
    "    tst[i] = tbt[i]-waso[i]-soi[i]-sol[i]\n",
    "    eff[i] = tst[i]/tbt[i]\n",
    "    \n",
    "    state[bt:gt] = 1-cpred\n",
    "\n",
    "nights[\"tbt\"] = tbt\n",
    "nights[\"waso\"] = waso\n",
    "nights[\"sol\"] = sol\n",
    "nights[\"soi\"] = soi\n",
    "nights[\"tst\"] = tst\n",
    "nights[\"nw\"] = nw\n",
    "nights[\"eff\"] = eff\n",
    "\n",
    "nights.insert(0,\"gts\",gts)\n",
    "nights.insert(0,\"bts\",bts)\n",
    "\n",
    "out[onwrist] = state\n",
    "\n",
    "df[\"state\"] = out\n",
    "df[\"sleep\"] = np.where(out == 4,0,out)\n",
    "print(nights)"
   ]
  },
  {
   "cell_type": "code",
   "execution_count": null,
   "metadata": {
    "colab": {
     "base_uri": "https://localhost:8080/",
     "height": 1000
    },
    "id": "XPtsms0WPnWn",
    "outputId": "37614ef4-6b6c-4905-dfac-b2e2d6d1408b"
   },
   "outputs": [],
   "source": [
    "fig = actigraphy_single_plot_actogram(df, [\"activity\", \"int_temp_\",\"ext_temp_\",\"sleep\",\"offwrist\"], [False, True, True, True, True], 12, dt = \"datetime\")\n",
    "fig.show()"
   ]
  }
 ],
 "metadata": {
  "colab": {
   "collapsed_sections": [],
   "provenance": []
  },
  "kernelspec": {
   "display_name": "Python 3 (ipykernel)",
   "language": "python",
   "name": "python3"
  },
  "language_info": {
   "codemirror_mode": {
    "name": "ipython",
    "version": 3
   },
   "file_extension": ".py",
   "mimetype": "text/x-python",
   "name": "python",
   "nbconvert_exporter": "python",
   "pygments_lexer": "ipython3",
   "version": "3.8.10"
  }
 },
 "nbformat": 4,
 "nbformat_minor": 1
}
